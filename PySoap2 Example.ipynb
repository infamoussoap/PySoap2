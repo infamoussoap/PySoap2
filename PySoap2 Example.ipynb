{
 "cells": [
  {
   "cell_type": "markdown",
   "id": "2c4ce45a",
   "metadata": {},
   "source": [
    "# A Note\n",
    "\n",
    "Something seems wrong with the cross-entropy. I'll come back to fix that when I get the chance"
   ]
  },
  {
   "cell_type": "code",
   "execution_count": 1,
   "id": "3ac38795",
   "metadata": {},
   "outputs": [],
   "source": [
    "import numpy as np\n",
    "import matplotlib.pyplot as plt\n",
    "\n",
    "import tensorflow as tf  # Note: tensorflow is not needed for PySoap2 to work\n",
    "\n",
    "import PySoap2\n",
    "\n",
    "# To use the gpu version use the following import\n",
    "# import PySoap2_gpu as PySoap2\n",
    "# Note that you will need to have pyopencl installed, but this means that it can be\n",
    "# used for different types of GPUs, not just NVIDIA GPUs"
   ]
  },
  {
   "cell_type": "code",
   "execution_count": 3,
   "id": "65007e1c",
   "metadata": {},
   "outputs": [],
   "source": [
    "(x_train, y_train), (x_test, y_test) = tf.keras.datasets.mnist.load_data()\n",
    "\n",
    "x_train = x_train.reshape(*x_train.shape, 1) / 255\n",
    "x_test = x_test.reshape(*x_test.shape, 1) / 255\n",
    "\n",
    "labels = np.eye(10)\n",
    "y_train = labels[y_train]\n",
    "y_test = labels[y_test]"
   ]
  },
  {
   "cell_type": "markdown",
   "id": "4269813c",
   "metadata": {},
   "source": [
    "# Simple Feedforward Network"
   ]
  },
  {
   "cell_type": "code",
   "execution_count": 16,
   "id": "1adec083",
   "metadata": {},
   "outputs": [],
   "source": [
    "inputs = PySoap2.layers.Input((28, 28, 1))\n",
    "flatten = PySoap2.layers.Flatten()(inputs)\n",
    "dense1 = PySoap2.layers.Dense(100, 'relu')(flatten)\n",
    "dense2 = PySoap2.layers.Dense(100, 'relu')(dense1)\n",
    "outputs = PySoap2.layers.Dense(10, 'softmax')(dense2)\n",
    "\n",
    "model = PySoap2.models.Model(inputs, outputs)\n",
    "\n",
    "optimizer = PySoap2.optimizers.Adam(learning_rate=0.001)\n",
    "model.build(loss_function='cross_entropy', optimizer=optimizer, metrics='accuracy')"
   ]
  },
  {
   "cell_type": "code",
   "execution_count": 17,
   "id": "72f05b07",
   "metadata": {},
   "outputs": [
    {
     "name": "stdout",
     "output_type": "stream",
     "text": [
      "Training on 60000 samples\n",
      "Epoch 1/2\n",
      "total loss : 40.4068 - cross_entropy_loss : 40.4068 - accuracy : 0.8906\n",
      "Training on 60000 samples\n",
      "Epoch 2/2\n",
      "total loss : 14.4373 - cross_entropy_loss : 14.4373 - accuracy : 0.9609\n",
      "CPU times: user 26.9 s, sys: 10.1 s, total: 36.9 s\n",
      "Wall time: 4.03 s\n"
     ]
    }
   ],
   "source": [
    "%%time\n",
    "model.train(x_train, y_train, epochs=2, batch_size=128, verbose=True)"
   ]
  },
  {
   "cell_type": "code",
   "execution_count": 18,
   "id": "9315be47",
   "metadata": {},
   "outputs": [
    {
     "data": {
      "text/plain": [
       "'total loss : 1121.8673 - cross_entropy_loss : 1121.8673 - accuracy : 0.9654'"
      ]
     },
     "execution_count": 18,
     "metadata": {},
     "output_type": "execute_result"
    }
   ],
   "source": [
    "model.evaluate(x_test, y_test)"
   ]
  },
  {
   "cell_type": "markdown",
   "id": "a9a76c83",
   "metadata": {},
   "source": [
    "# Complex Neural Network Structure\n",
    "\n",
    "For simple network structures, the output of a layer is typically only used as the input of the next layer. But this not a restriction on the network, the output of a layer can be used as the input of as many layers as you wish.\n",
    "\n",
    "### Example 1"
   ]
  },
  {
   "cell_type": "code",
   "execution_count": 21,
   "id": "830b623a",
   "metadata": {},
   "outputs": [],
   "source": [
    "inputs = PySoap2.layers.Input((28, 28, 1))\n",
    "\n",
    "flatten = PySoap2.layers.Flatten()(inputs)\n",
    "\n",
    "dense1 = PySoap2.layers.Dense(100, 'relu')(flatten)\n",
    "\n",
    "dense2_left = PySoap2.layers.Dense(100, 'relu')(dense1)\n",
    "dense2_right = PySoap2.layers.Dense(100, 'relu')(dense1)\n",
    "\n",
    "concatenate = PySoap2.layers.Concatenate()([dense2_left, dense2_right])\n",
    "\n",
    "outputs = PySoap2.layers.Dense(10, 'softmax')(concatenate)\n",
    "\n",
    "model = PySoap2.models.Model(inputs, outputs)\n",
    "\n",
    "optimizer = PySoap2.optimizers.Adam(learning_rate=0.001)\n",
    "model.build(loss_function='cross_entropy', optimizer=optimizer, metrics='accuracy')"
   ]
  },
  {
   "cell_type": "code",
   "execution_count": 22,
   "id": "e58aa59c",
   "metadata": {},
   "outputs": [
    {
     "name": "stdout",
     "output_type": "stream",
     "text": [
      "Training on 60000 samples\n",
      "Epoch 1/2\n",
      "total loss : 15.5187 - cross_entropy_loss : 15.5187 - accuracy : 0.9531\n",
      "Training on 60000 samples\n",
      "Epoch 2/2\n",
      "total loss : 7.6843 - cross_entropy_loss : 7.6843 - accuracy : 0.9844\n",
      "CPU times: user 42.5 s, sys: 14.7 s, total: 57.2 s\n",
      "Wall time: 6.45 s\n"
     ]
    }
   ],
   "source": [
    "%%time\n",
    "model.train(x_train, y_train, epochs=2, batch_size=128, verbose=True)"
   ]
  },
  {
   "cell_type": "code",
   "execution_count": 23,
   "id": "ca04e634",
   "metadata": {},
   "outputs": [
    {
     "data": {
      "text/plain": [
       "'total loss : 1081.2591 - cross_entropy_loss : 1081.2591 - accuracy : 0.9676'"
      ]
     },
     "execution_count": 23,
     "metadata": {},
     "output_type": "execute_result"
    }
   ],
   "source": [
    "model.evaluate(x_test, y_test)"
   ]
  },
  {
   "cell_type": "markdown",
   "id": "36ed90ca",
   "metadata": {},
   "source": [
    "### Another Example"
   ]
  },
  {
   "cell_type": "code",
   "execution_count": 26,
   "id": "23f368de",
   "metadata": {},
   "outputs": [],
   "source": [
    "inputs = PySoap2.layers.Input((28, 28, 1))\n",
    "\n",
    "flatten = PySoap2.layers.Flatten()(inputs)\n",
    "\n",
    "dense1 = PySoap2.layers.Dense(100, 'relu')(flatten)\n",
    "\n",
    "dense2 = PySoap2.layers.Dense(100, 'relu')(dense1)\n",
    "dense3 = PySoap2.layers.Dense(100, 'relu')(dense2)\n",
    "\n",
    "add = PySoap2.layers.Add()([dense1, dense3])\n",
    "\n",
    "outputs = PySoap2.layers.Dense(10, 'softmax')(add)\n",
    "\n",
    "model = PySoap2.models.Model(inputs, outputs)\n",
    "\n",
    "optimizer = PySoap2.optimizers.Adam(learning_rate=0.001)\n",
    "model.build(loss_function='cross_entropy', optimizer=optimizer, metrics='accuracy')"
   ]
  },
  {
   "cell_type": "code",
   "execution_count": 27,
   "id": "164c8f61",
   "metadata": {},
   "outputs": [
    {
     "name": "stdout",
     "output_type": "stream",
     "text": [
      "Training on 60000 samples\n",
      "Epoch 1/2\n",
      "total loss : 24.4937 - cross_entropy_loss : 24.4937 - accuracy : 0.9531\n",
      "Training on 60000 samples\n",
      "Epoch 2/2\n",
      "total loss : 16.2022 - cross_entropy_loss : 16.2022 - accuracy : 0.9375\n",
      "CPU times: user 40.9 s, sys: 12.5 s, total: 53.3 s\n",
      "Wall time: 5.98 s\n"
     ]
    }
   ],
   "source": [
    "%%time\n",
    "model.train(x_train, y_train, epochs=2, batch_size=128, verbose=True)"
   ]
  },
  {
   "cell_type": "code",
   "execution_count": 28,
   "id": "e2e97084",
   "metadata": {},
   "outputs": [
    {
     "data": {
      "text/plain": [
       "'total loss : 1203.0493 - cross_entropy_loss : 1203.0493 - accuracy : 0.9614'"
      ]
     },
     "execution_count": 28,
     "metadata": {},
     "output_type": "execute_result"
    }
   ],
   "source": [
    "model.evaluate(x_test, y_test)"
   ]
  },
  {
   "cell_type": "code",
   "execution_count": null,
   "id": "8c4042f3",
   "metadata": {},
   "outputs": [],
   "source": []
  }
 ],
 "metadata": {
  "kernelspec": {
   "display_name": "Python 3 (ipykernel)",
   "language": "python",
   "name": "python3"
  },
  "language_info": {
   "codemirror_mode": {
    "name": "ipython",
    "version": 3
   },
   "file_extension": ".py",
   "mimetype": "text/x-python",
   "name": "python",
   "nbconvert_exporter": "python",
   "pygments_lexer": "ipython3",
   "version": "3.10.6"
  }
 },
 "nbformat": 4,
 "nbformat_minor": 5
}

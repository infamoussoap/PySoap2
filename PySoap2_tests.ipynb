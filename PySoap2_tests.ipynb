{
 "cells": [
  {
   "cell_type": "code",
   "execution_count": 1,
   "metadata": {},
   "outputs": [],
   "source": [
    "import numpy as np\n",
    "\n",
    "import PySoap2\n",
    "from PySoap2.models import Model"
   ]
  },
  {
   "cell_type": "code",
   "execution_count": 20,
   "metadata": {},
   "outputs": [],
   "source": [
    "import pandas as pd"
   ]
  },
  {
   "cell_type": "code",
   "execution_count": 36,
   "metadata": {},
   "outputs": [],
   "source": [
    "mask1 = np.array([x < 50 for x in range(100)])\n",
    "mask2 = np.array([x < 25 for x in range(50)])"
   ]
  },
  {
   "cell_type": "code",
   "execution_count": 62,
   "metadata": {},
   "outputs": [],
   "source": [
    "input_layer = PySoap2.layers.Input(input_shape=(28, 28))\n",
    "layer1 = PySoap2.layers.Flatten()(input_layer)\n",
    "layer2 = PySoap2.layers.Dense(100, 'relu')(layer1)\n",
    "\n",
    "layer3 = PySoap2.layers.Split(mask1)(layer2)\n",
    "\n",
    "layer5 = PySoap2.layers.Split(mask2)(layer3.left)\n",
    "layer6 = PySoap2.layers.Dense(10, 'relu')(layer5.right)\n",
    "layer4 = PySoap2.layers.Dense(10, 'relu')(layer5.left)\n",
    "\n",
    "layer7 = PySoap2.layers.Concatenate(axis=-1)([layer4, layer3.right, layer6])\n",
    "\n",
    "output_layer = PySoap2.layers.Dense(10, 'softmax')(layer7)"
   ]
  },
  {
   "cell_type": "code",
   "execution_count": 63,
   "metadata": {
    "scrolled": true
   },
   "outputs": [],
   "source": [
    "model = PySoap2.models.Model(input_layer, output_layer)\n",
    "model.build(loss_function='cross_entropy', optimizer='adam', metrics='accuracy')"
   ]
  },
  {
   "cell_type": "code",
   "execution_count": null,
   "metadata": {},
   "outputs": [],
   "source": []
  },
  {
   "cell_type": "code",
   "execution_count": 6,
   "metadata": {},
   "outputs": [],
   "source": [
    "from PySoap2.models.dictionary_tricks import simplify_recursive_dict, unpack_to_recursive_dict"
   ]
  },
  {
   "cell_type": "code",
   "execution_count": 17,
   "metadata": {},
   "outputs": [],
   "source": [
    "def pruned_layer_attributes(layer):\n",
    "    \"\"\" Returns the attributes of the layer as if it was no longer inherited from\n",
    "        `NetworkNode`, that is, pruned from the tree.\n",
    "    \"\"\"\n",
    "    layer_attributes = layer.__dict__.copy()\n",
    "    \n",
    "    del layer_attributes['parents']\n",
    "    del layer_attributes['children']\n",
    "    \n",
    "    return layer_attributes"
   ]
  },
  {
   "cell_type": "code",
   "execution_count": 18,
   "metadata": {},
   "outputs": [],
   "source": [
    "layer_as_dict = {f'{type(layer).__name__}_{i}': pruned_layer_attributes(layer) \n",
    "                 for (i, layer) in enumerate(model.layers_by_number_of_parents)}\n",
    "\n",
    "layer_as_dict = simplify_recursive_dict(layer_as_dict)"
   ]
  },
  {
   "cell_type": "code",
   "execution_count": null,
   "metadata": {},
   "outputs": [],
   "source": []
  },
  {
   "cell_type": "code",
   "execution_count": 71,
   "metadata": {
    "scrolled": true
   },
   "outputs": [],
   "source": [
    "f = {layer.memory_location: i for (i, layer) in enumerate(model.layers_by_number_of_parents)}\n",
    "\n",
    "layer_id = [f'{type(layer).__name__}_{f[layer.memory_location]}' for layer in model.layers_by_number_of_parents]\n",
    "adjacency_matrix = pd.DataFrame(0, columns=layer_id, index=layer_id)\n",
    "\n",
    "for layer in model.layers_by_number_of_parents:\n",
    "    index = f'{type(layer).__name__}_{f[layer.memory_location]}'\n",
    "    parents_columns = [f'{type(parent).__name__}_{f[parent.memory_location]}' for parent in layer.parents]\n",
    "    children_columns = [f'{type(child).__name__}_{f[child.memory_location]}' for child in layer.children]\n",
    "    \n",
    "    adjacency_matrix.loc[index, children_columns] = 1"
   ]
  },
  {
   "cell_type": "code",
   "execution_count": null,
   "metadata": {
    "scrolled": false
   },
   "outputs": [],
   "source": []
  },
  {
   "cell_type": "code",
   "execution_count": 68,
   "metadata": {},
   "outputs": [
    {
     "name": "stdout",
     "output_type": "stream",
     "text": [
      "('Input_0', ('Flatten_1',))\n",
      "('Flatten_1', ('Dense_2',))\n",
      "('Dense_2', ('Split_3',))\n",
      "('Split_3', ('SplitLeftChild_4', 'SplitRightChild_8'))\n",
      "('SplitLeftChild_4', ('Split_5',))\n",
      "('Split_5', ('SplitRightChild_6', 'SplitLeftChild_7'))\n",
      "('SplitRightChild_6', ('Dense_10',))\n",
      "('SplitLeftChild_7', ('Dense_9',))\n",
      "('SplitRightChild_8', ('ConcatenateParent_11',))\n",
      "('Dense_9', ('ConcatenateParent_13',))\n",
      "('Dense_10', ('ConcatenateParent_12',))\n",
      "('ConcatenateParent_11', ('Concatenate_14',))\n",
      "('ConcatenateParent_12', ('Concatenate_14',))\n",
      "('ConcatenateParent_13', ('Concatenate_14',))\n",
      "('Concatenate_14', ('Dense_15',))\n",
      "('Dense_15', ())\n"
     ]
    }
   ],
   "source": [
    "layer_names = adjacency_matrix.columns\n",
    "\n",
    "for layer in layer_names:\n",
    "    layer_pair = (layer, tuple(layer_names[adjacency_matrix.loc[layer, :] == 1]))\n",
    "    print(layer_pair)"
   ]
  },
  {
   "cell_type": "code",
   "execution_count": null,
   "metadata": {},
   "outputs": [],
   "source": []
  },
  {
   "cell_type": "code",
   "execution_count": null,
   "metadata": {},
   "outputs": [],
   "source": []
  },
  {
   "cell_type": "code",
   "execution_count": null,
   "metadata": {},
   "outputs": [],
   "source": []
  },
  {
   "cell_type": "code",
   "execution_count": null,
   "metadata": {},
   "outputs": [],
   "source": []
  },
  {
   "cell_type": "code",
   "execution_count": null,
   "metadata": {},
   "outputs": [],
   "source": []
  },
  {
   "cell_type": "markdown",
   "metadata": {},
   "source": [
    "# Visualising Graph"
   ]
  },
  {
   "cell_type": "code",
   "execution_count": 51,
   "metadata": {},
   "outputs": [],
   "source": [
    "from graphviz import Digraph"
   ]
  },
  {
   "cell_type": "code",
   "execution_count": 66,
   "metadata": {},
   "outputs": [],
   "source": [
    "dot = Digraph(comment='The Model')\n",
    "\n",
    "for i, layer in enumerate(model.layers_by_number_of_parents):\n",
    "    dot.node(layer.memory_location, type(layer).__name__)\n",
    "\n",
    "for layer in model.layers_by_number_of_parents:\n",
    "    for parent in layer.parents:\n",
    "        dot.edge(parent.memory_location, layer.memory_location)"
   ]
  },
  {
   "cell_type": "code",
   "execution_count": 67,
   "metadata": {},
   "outputs": [
    {
     "data": {
      "image/svg+xml": [
       "<?xml version=\"1.0\" encoding=\"UTF-8\" standalone=\"no\"?>\n",
       "<!DOCTYPE svg PUBLIC \"-//W3C//DTD SVG 1.1//EN\"\n",
       " \"http://www.w3.org/Graphics/SVG/1.1/DTD/svg11.dtd\">\n",
       "<!-- Generated by graphviz version 2.40.1 (20161225.0304)\n",
       " -->\n",
       "<!-- Title: %3 Pages: 1 -->\n",
       "<svg width=\"447pt\" height=\"764pt\"\n",
       " viewBox=\"0.00 0.00 447.29 764.00\" xmlns=\"http://www.w3.org/2000/svg\" xmlns:xlink=\"http://www.w3.org/1999/xlink\">\n",
       "<g id=\"graph0\" class=\"graph\" transform=\"scale(1 1) rotate(0) translate(4 760)\">\n",
       "<title>%3</title>\n",
       "<polygon fill=\"#ffffff\" stroke=\"transparent\" points=\"-4,4 -4,-760 443.286,-760 443.286,4 -4,4\"/>\n",
       "<!-- 0x7f88fcc6b710 -->\n",
       "<g id=\"node1\" class=\"node\">\n",
       "<title>0x7f88fcc6b710</title>\n",
       "<ellipse fill=\"none\" stroke=\"#000000\" cx=\"285.643\" cy=\"-738\" rx=\"29.795\" ry=\"18\"/>\n",
       "<text text-anchor=\"middle\" x=\"285.643\" y=\"-734.3\" font-family=\"Times,serif\" font-size=\"14.00\" fill=\"#000000\">Input</text>\n",
       "</g>\n",
       "<!-- 0x7f88fcc6b390 -->\n",
       "<g id=\"node2\" class=\"node\">\n",
       "<title>0x7f88fcc6b390</title>\n",
       "<ellipse fill=\"none\" stroke=\"#000000\" cx=\"285.643\" cy=\"-666\" rx=\"35.9954\" ry=\"18\"/>\n",
       "<text text-anchor=\"middle\" x=\"285.643\" y=\"-662.3\" font-family=\"Times,serif\" font-size=\"14.00\" fill=\"#000000\">Flatten</text>\n",
       "</g>\n",
       "<!-- 0x7f88fcc6b710&#45;&gt;0x7f88fcc6b390 -->\n",
       "<g id=\"edge1\" class=\"edge\">\n",
       "<title>0x7f88fcc6b710&#45;&gt;0x7f88fcc6b390</title>\n",
       "<path fill=\"none\" stroke=\"#000000\" d=\"M285.643,-719.8314C285.643,-712.131 285.643,-702.9743 285.643,-694.4166\"/>\n",
       "<polygon fill=\"#000000\" stroke=\"#000000\" points=\"289.1431,-694.4132 285.643,-684.4133 282.1431,-694.4133 289.1431,-694.4132\"/>\n",
       "</g>\n",
       "<!-- 0x7f88fcc6b6d0 -->\n",
       "<g id=\"node3\" class=\"node\">\n",
       "<title>0x7f88fcc6b6d0</title>\n",
       "<ellipse fill=\"none\" stroke=\"#000000\" cx=\"285.643\" cy=\"-594\" rx=\"33.2948\" ry=\"18\"/>\n",
       "<text text-anchor=\"middle\" x=\"285.643\" y=\"-590.3\" font-family=\"Times,serif\" font-size=\"14.00\" fill=\"#000000\">Dense</text>\n",
       "</g>\n",
       "<!-- 0x7f88fcc6b390&#45;&gt;0x7f88fcc6b6d0 -->\n",
       "<g id=\"edge2\" class=\"edge\">\n",
       "<title>0x7f88fcc6b390&#45;&gt;0x7f88fcc6b6d0</title>\n",
       "<path fill=\"none\" stroke=\"#000000\" d=\"M285.643,-647.8314C285.643,-640.131 285.643,-630.9743 285.643,-622.4166\"/>\n",
       "<polygon fill=\"#000000\" stroke=\"#000000\" points=\"289.1431,-622.4132 285.643,-612.4133 282.1431,-622.4133 289.1431,-622.4132\"/>\n",
       "</g>\n",
       "<!-- 0x7f88fcc6b790 -->\n",
       "<g id=\"node4\" class=\"node\">\n",
       "<title>0x7f88fcc6b790</title>\n",
       "<ellipse fill=\"none\" stroke=\"#000000\" cx=\"285.643\" cy=\"-522\" rx=\"27.8951\" ry=\"18\"/>\n",
       "<text text-anchor=\"middle\" x=\"285.643\" y=\"-518.3\" font-family=\"Times,serif\" font-size=\"14.00\" fill=\"#000000\">Split</text>\n",
       "</g>\n",
       "<!-- 0x7f88fcc6b6d0&#45;&gt;0x7f88fcc6b790 -->\n",
       "<g id=\"edge3\" class=\"edge\">\n",
       "<title>0x7f88fcc6b6d0&#45;&gt;0x7f88fcc6b790</title>\n",
       "<path fill=\"none\" stroke=\"#000000\" d=\"M285.643,-575.8314C285.643,-568.131 285.643,-558.9743 285.643,-550.4166\"/>\n",
       "<polygon fill=\"#000000\" stroke=\"#000000\" points=\"289.1431,-550.4132 285.643,-540.4133 282.1431,-550.4133 289.1431,-550.4132\"/>\n",
       "</g>\n",
       "<!-- 0x7f88fcc6b610 -->\n",
       "<g id=\"node5\" class=\"node\">\n",
       "<title>0x7f88fcc6b610</title>\n",
       "<ellipse fill=\"none\" stroke=\"#000000\" cx=\"211.643\" cy=\"-450\" rx=\"63.0888\" ry=\"18\"/>\n",
       "<text text-anchor=\"middle\" x=\"211.643\" y=\"-446.3\" font-family=\"Times,serif\" font-size=\"14.00\" fill=\"#000000\">SplitLeftChild</text>\n",
       "</g>\n",
       "<!-- 0x7f88fcc6b790&#45;&gt;0x7f88fcc6b610 -->\n",
       "<g id=\"edge4\" class=\"edge\">\n",
       "<title>0x7f88fcc6b790&#45;&gt;0x7f88fcc6b610</title>\n",
       "<path fill=\"none\" stroke=\"#000000\" d=\"M269.9495,-506.7307C260.3666,-497.4067 247.8911,-485.2684 236.9402,-474.6135\"/>\n",
       "<polygon fill=\"#000000\" stroke=\"#000000\" points=\"239.2648,-471.9919 229.6567,-467.5269 234.3833,-477.009 239.2648,-471.9919\"/>\n",
       "</g>\n",
       "<!-- 0x7f88fcc6b750 -->\n",
       "<g id=\"node9\" class=\"node\">\n",
       "<title>0x7f88fcc6b750</title>\n",
       "<ellipse fill=\"none\" stroke=\"#000000\" cx=\"360.643\" cy=\"-450\" rx=\"68.4888\" ry=\"18\"/>\n",
       "<text text-anchor=\"middle\" x=\"360.643\" y=\"-446.3\" font-family=\"Times,serif\" font-size=\"14.00\" fill=\"#000000\">SplitRightChild</text>\n",
       "</g>\n",
       "<!-- 0x7f88fcc6b790&#45;&gt;0x7f88fcc6b750 -->\n",
       "<g id=\"edge8\" class=\"edge\">\n",
       "<title>0x7f88fcc6b790&#45;&gt;0x7f88fcc6b750</title>\n",
       "<path fill=\"none\" stroke=\"#000000\" d=\"M301.5486,-506.7307C311.261,-497.4067 323.9051,-485.2684 335.004,-474.6135\"/>\n",
       "<polygon fill=\"#000000\" stroke=\"#000000\" points=\"337.5958,-476.9771 342.3859,-467.5269 332.7481,-471.9273 337.5958,-476.9771\"/>\n",
       "</g>\n",
       "<!-- 0x7f88fcc6b650 -->\n",
       "<g id=\"node6\" class=\"node\">\n",
       "<title>0x7f88fcc6b650</title>\n",
       "<ellipse fill=\"none\" stroke=\"#000000\" cx=\"211.643\" cy=\"-378\" rx=\"27.8951\" ry=\"18\"/>\n",
       "<text text-anchor=\"middle\" x=\"211.643\" y=\"-374.3\" font-family=\"Times,serif\" font-size=\"14.00\" fill=\"#000000\">Split</text>\n",
       "</g>\n",
       "<!-- 0x7f88fcc6b610&#45;&gt;0x7f88fcc6b650 -->\n",
       "<g id=\"edge5\" class=\"edge\">\n",
       "<title>0x7f88fcc6b610&#45;&gt;0x7f88fcc6b650</title>\n",
       "<path fill=\"none\" stroke=\"#000000\" d=\"M211.643,-431.8314C211.643,-424.131 211.643,-414.9743 211.643,-406.4166\"/>\n",
       "<polygon fill=\"#000000\" stroke=\"#000000\" points=\"215.1431,-406.4132 211.643,-396.4133 208.1431,-406.4133 215.1431,-406.4132\"/>\n",
       "</g>\n",
       "<!-- 0x7f88fcc6b810 -->\n",
       "<g id=\"node7\" class=\"node\">\n",
       "<title>0x7f88fcc6b810</title>\n",
       "<ellipse fill=\"none\" stroke=\"#000000\" cx=\"86.643\" cy=\"-306\" rx=\"68.4888\" ry=\"18\"/>\n",
       "<text text-anchor=\"middle\" x=\"86.643\" y=\"-302.3\" font-family=\"Times,serif\" font-size=\"14.00\" fill=\"#000000\">SplitRightChild</text>\n",
       "</g>\n",
       "<!-- 0x7f88fcc6b650&#45;&gt;0x7f88fcc6b810 -->\n",
       "<g id=\"edge6\" class=\"edge\">\n",
       "<title>0x7f88fcc6b650&#45;&gt;0x7f88fcc6b810</title>\n",
       "<path fill=\"none\" stroke=\"#000000\" d=\"M190.7208,-365.9488C172.5176,-355.4637 145.7026,-340.0183 123.85,-327.4312\"/>\n",
       "<polygon fill=\"#000000\" stroke=\"#000000\" points=\"125.548,-324.3702 115.1357,-322.4118 122.0541,-330.4359 125.548,-324.3702\"/>\n",
       "</g>\n",
       "<!-- 0x7f88fcc6b690 -->\n",
       "<g id=\"node8\" class=\"node\">\n",
       "<title>0x7f88fcc6b690</title>\n",
       "<ellipse fill=\"none\" stroke=\"#000000\" cx=\"238.643\" cy=\"-306\" rx=\"63.0888\" ry=\"18\"/>\n",
       "<text text-anchor=\"middle\" x=\"238.643\" y=\"-302.3\" font-family=\"Times,serif\" font-size=\"14.00\" fill=\"#000000\">SplitLeftChild</text>\n",
       "</g>\n",
       "<!-- 0x7f88fcc6b650&#45;&gt;0x7f88fcc6b690 -->\n",
       "<g id=\"edge7\" class=\"edge\">\n",
       "<title>0x7f88fcc6b650&#45;&gt;0x7f88fcc6b690</title>\n",
       "<path fill=\"none\" stroke=\"#000000\" d=\"M218.3172,-360.2022C221.3126,-352.2146 224.9163,-342.6045 228.2523,-333.7087\"/>\n",
       "<polygon fill=\"#000000\" stroke=\"#000000\" points=\"231.624,-334.6854 231.8581,-324.0931 225.0697,-332.2275 231.624,-334.6854\"/>\n",
       "</g>\n",
       "<!-- 0x7f88fcc6b5d0 -->\n",
       "<g id=\"node11\" class=\"node\">\n",
       "<title>0x7f88fcc6b5d0</title>\n",
       "<ellipse fill=\"none\" stroke=\"#000000\" cx=\"80.643\" cy=\"-234\" rx=\"33.2948\" ry=\"18\"/>\n",
       "<text text-anchor=\"middle\" x=\"80.643\" y=\"-230.3\" font-family=\"Times,serif\" font-size=\"14.00\" fill=\"#000000\">Dense</text>\n",
       "</g>\n",
       "<!-- 0x7f88fcc6b810&#45;&gt;0x7f88fcc6b5d0 -->\n",
       "<g id=\"edge10\" class=\"edge\">\n",
       "<title>0x7f88fcc6b810&#45;&gt;0x7f88fcc6b5d0</title>\n",
       "<path fill=\"none\" stroke=\"#000000\" d=\"M85.129,-287.8314C84.4873,-280.131 83.7242,-270.9743 83.0111,-262.4166\"/>\n",
       "<polygon fill=\"#000000\" stroke=\"#000000\" points=\"86.4959,-262.088 82.1775,-252.4133 79.5201,-262.6694 86.4959,-262.088\"/>\n",
       "</g>\n",
       "<!-- 0x7f88fcc6b8d0 -->\n",
       "<g id=\"node10\" class=\"node\">\n",
       "<title>0x7f88fcc6b8d0</title>\n",
       "<ellipse fill=\"none\" stroke=\"#000000\" cx=\"240.643\" cy=\"-234\" rx=\"33.2948\" ry=\"18\"/>\n",
       "<text text-anchor=\"middle\" x=\"240.643\" y=\"-230.3\" font-family=\"Times,serif\" font-size=\"14.00\" fill=\"#000000\">Dense</text>\n",
       "</g>\n",
       "<!-- 0x7f88fcc6b690&#45;&gt;0x7f88fcc6b8d0 -->\n",
       "<g id=\"edge9\" class=\"edge\">\n",
       "<title>0x7f88fcc6b690&#45;&gt;0x7f88fcc6b8d0</title>\n",
       "<path fill=\"none\" stroke=\"#000000\" d=\"M239.1477,-287.8314C239.3616,-280.131 239.616,-270.9743 239.8537,-262.4166\"/>\n",
       "<polygon fill=\"#000000\" stroke=\"#000000\" points=\"243.3524,-262.5066 240.1315,-252.4133 236.3551,-262.3122 243.3524,-262.5066\"/>\n",
       "</g>\n",
       "<!-- 0x7f88fcc6bbd0 -->\n",
       "<g id=\"node12\" class=\"node\">\n",
       "<title>0x7f88fcc6bbd0</title>\n",
       "<ellipse fill=\"none\" stroke=\"#000000\" cx=\"360.643\" cy=\"-378\" rx=\"78.7863\" ry=\"18\"/>\n",
       "<text text-anchor=\"middle\" x=\"360.643\" y=\"-374.3\" font-family=\"Times,serif\" font-size=\"14.00\" fill=\"#000000\">ConcatenateParent</text>\n",
       "</g>\n",
       "<!-- 0x7f88fcc6b750&#45;&gt;0x7f88fcc6bbd0 -->\n",
       "<g id=\"edge11\" class=\"edge\">\n",
       "<title>0x7f88fcc6b750&#45;&gt;0x7f88fcc6bbd0</title>\n",
       "<path fill=\"none\" stroke=\"#000000\" d=\"M360.643,-431.8314C360.643,-424.131 360.643,-414.9743 360.643,-406.4166\"/>\n",
       "<polygon fill=\"#000000\" stroke=\"#000000\" points=\"364.1431,-406.4132 360.643,-396.4133 357.1431,-406.4133 364.1431,-406.4132\"/>\n",
       "</g>\n",
       "<!-- 0x7f88fcc6ba90 -->\n",
       "<g id=\"node14\" class=\"node\">\n",
       "<title>0x7f88fcc6ba90</title>\n",
       "<ellipse fill=\"none\" stroke=\"#000000\" cx=\"253.643\" cy=\"-162\" rx=\"78.7863\" ry=\"18\"/>\n",
       "<text text-anchor=\"middle\" x=\"253.643\" y=\"-158.3\" font-family=\"Times,serif\" font-size=\"14.00\" fill=\"#000000\">ConcatenateParent</text>\n",
       "</g>\n",
       "<!-- 0x7f88fcc6b8d0&#45;&gt;0x7f88fcc6ba90 -->\n",
       "<g id=\"edge13\" class=\"edge\">\n",
       "<title>0x7f88fcc6b8d0&#45;&gt;0x7f88fcc6ba90</title>\n",
       "<path fill=\"none\" stroke=\"#000000\" d=\"M243.9235,-215.8314C245.3138,-208.131 246.9671,-198.9743 248.5122,-190.4166\"/>\n",
       "<polygon fill=\"#000000\" stroke=\"#000000\" points=\"251.9858,-190.8761 250.3184,-180.4133 245.0972,-189.6322 251.9858,-190.8761\"/>\n",
       "</g>\n",
       "<!-- 0x7f88fcc6bc90 -->\n",
       "<g id=\"node13\" class=\"node\">\n",
       "<title>0x7f88fcc6bc90</title>\n",
       "<ellipse fill=\"none\" stroke=\"#000000\" cx=\"78.643\" cy=\"-162\" rx=\"78.7863\" ry=\"18\"/>\n",
       "<text text-anchor=\"middle\" x=\"78.643\" y=\"-158.3\" font-family=\"Times,serif\" font-size=\"14.00\" fill=\"#000000\">ConcatenateParent</text>\n",
       "</g>\n",
       "<!-- 0x7f88fcc6b5d0&#45;&gt;0x7f88fcc6bc90 -->\n",
       "<g id=\"edge12\" class=\"edge\">\n",
       "<title>0x7f88fcc6b5d0&#45;&gt;0x7f88fcc6bc90</title>\n",
       "<path fill=\"none\" stroke=\"#000000\" d=\"M80.1383,-215.8314C79.9244,-208.131 79.6701,-198.9743 79.4324,-190.4166\"/>\n",
       "<polygon fill=\"#000000\" stroke=\"#000000\" points=\"82.9309,-190.3122 79.1545,-180.4133 75.9336,-190.5066 82.9309,-190.3122\"/>\n",
       "</g>\n",
       "<!-- 0x7f88fcc6b910 -->\n",
       "<g id=\"node15\" class=\"node\">\n",
       "<title>0x7f88fcc6b910</title>\n",
       "<ellipse fill=\"none\" stroke=\"#000000\" cx=\"253.643\" cy=\"-90\" rx=\"55.7903\" ry=\"18\"/>\n",
       "<text text-anchor=\"middle\" x=\"253.643\" y=\"-86.3\" font-family=\"Times,serif\" font-size=\"14.00\" fill=\"#000000\">Concatenate</text>\n",
       "</g>\n",
       "<!-- 0x7f88fcc6bbd0&#45;&gt;0x7f88fcc6b910 -->\n",
       "<g id=\"edge15\" class=\"edge\">\n",
       "<title>0x7f88fcc6bbd0&#45;&gt;0x7f88fcc6b910</title>\n",
       "<path fill=\"none\" stroke=\"#000000\" d=\"M364.3254,-359.9054C371.7771,-318.2516 384.5141,-213.8124 341.643,-144 332.0769,-128.4222 316.1666,-116.686 300.4852,-108.203\"/>\n",
       "<polygon fill=\"#000000\" stroke=\"#000000\" points=\"301.8325,-104.9625 291.3283,-103.5797 298.6776,-111.2112 301.8325,-104.9625\"/>\n",
       "</g>\n",
       "<!-- 0x7f88fcc6bc90&#45;&gt;0x7f88fcc6b910 -->\n",
       "<g id=\"edge16\" class=\"edge\">\n",
       "<title>0x7f88fcc6bc90&#45;&gt;0x7f88fcc6b910</title>\n",
       "<path fill=\"none\" stroke=\"#000000\" d=\"M117.0475,-146.1993C144.4372,-134.9304 181.3162,-119.7573 209.8508,-108.0174\"/>\n",
       "<polygon fill=\"#000000\" stroke=\"#000000\" points=\"211.2659,-111.2199 219.1821,-104.1782 208.6025,-104.7464 211.2659,-111.2199\"/>\n",
       "</g>\n",
       "<!-- 0x7f88fcc6ba90&#45;&gt;0x7f88fcc6b910 -->\n",
       "<g id=\"edge14\" class=\"edge\">\n",
       "<title>0x7f88fcc6ba90&#45;&gt;0x7f88fcc6b910</title>\n",
       "<path fill=\"none\" stroke=\"#000000\" d=\"M253.643,-143.8314C253.643,-136.131 253.643,-126.9743 253.643,-118.4166\"/>\n",
       "<polygon fill=\"#000000\" stroke=\"#000000\" points=\"257.1431,-118.4132 253.643,-108.4133 250.1431,-118.4133 257.1431,-118.4132\"/>\n",
       "</g>\n",
       "<!-- 0x7f88fcc6b9d0 -->\n",
       "<g id=\"node16\" class=\"node\">\n",
       "<title>0x7f88fcc6b9d0</title>\n",
       "<ellipse fill=\"none\" stroke=\"#000000\" cx=\"253.643\" cy=\"-18\" rx=\"33.2948\" ry=\"18\"/>\n",
       "<text text-anchor=\"middle\" x=\"253.643\" y=\"-14.3\" font-family=\"Times,serif\" font-size=\"14.00\" fill=\"#000000\">Dense</text>\n",
       "</g>\n",
       "<!-- 0x7f88fcc6b910&#45;&gt;0x7f88fcc6b9d0 -->\n",
       "<g id=\"edge17\" class=\"edge\">\n",
       "<title>0x7f88fcc6b910&#45;&gt;0x7f88fcc6b9d0</title>\n",
       "<path fill=\"none\" stroke=\"#000000\" d=\"M253.643,-71.8314C253.643,-64.131 253.643,-54.9743 253.643,-46.4166\"/>\n",
       "<polygon fill=\"#000000\" stroke=\"#000000\" points=\"257.1431,-46.4132 253.643,-36.4133 250.1431,-46.4133 257.1431,-46.4132\"/>\n",
       "</g>\n",
       "</g>\n",
       "</svg>\n"
      ],
      "text/plain": [
       "<graphviz.dot.Digraph at 0x7f88fcc5ea50>"
      ]
     },
     "execution_count": 67,
     "metadata": {},
     "output_type": "execute_result"
    }
   ],
   "source": [
    "dot"
   ]
  },
  {
   "cell_type": "code",
   "execution_count": null,
   "metadata": {},
   "outputs": [],
   "source": []
  }
 ],
 "metadata": {
  "kernelspec": {
   "display_name": "Python 3",
   "language": "python",
   "name": "python3"
  },
  "language_info": {
   "codemirror_mode": {
    "name": "ipython",
    "version": 3
   },
   "file_extension": ".py",
   "mimetype": "text/x-python",
   "name": "python",
   "nbconvert_exporter": "python",
   "pygments_lexer": "ipython3",
   "version": "3.7.6"
  }
 },
 "nbformat": 4,
 "nbformat_minor": 4
}
